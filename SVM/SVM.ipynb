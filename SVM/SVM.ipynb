{
 "cells": [
  {
   "cell_type": "markdown",
   "metadata": {},
   "source": [
    "# Support Vector Machine"
   ]
  },
  {
   "cell_type": "code",
   "execution_count": 1,
   "metadata": {},
   "outputs": [],
   "source": [
    "import logging, os, warnings\n",
    "import numpy as np\n",
    "import pandas as pd\n",
    "from sklearn import svm\n",
    "from sklearn.utils import shuffle\n",
    "from data_helper import XY_from_df\n",
    "from sklearn.model_selection import StratifiedKFold\n",
    "from bincls import BinaryClassificationAverageReport\n",
    "from sklearn.metrics import classification_report, confusion_matrix\n",
    "\n",
    "# sklearn ignore warnings\n",
    "warnings.filterwarnings('ignore')"
   ]
  },
  {
   "cell_type": "markdown",
   "metadata": {},
   "source": [
    "## Data Preparing"
   ]
  },
  {
   "cell_type": "code",
   "execution_count": 2,
   "metadata": {},
   "outputs": [],
   "source": [
    "SEED = 5\n",
    "FOLD = 10\n",
    "TRAIN_PATH = \"../dataset/train.csv\"\n",
    "TARGET_NAMES = [\"bad\", \"good\"]\n",
    "\n",
    "np.random.seed(SEED)\n",
    "df_train = pd.read_csv(TRAIN_PATH)\n",
    "X, Y = XY_from_df(df_train)\n",
    "\n",
    "stratified_folder = StratifiedKFold(n_splits=FOLD, random_state=SEED, shuffle=False)"
   ]
  },
  {
   "cell_type": "markdown",
   "metadata": {},
   "source": [
    "### SVC 重要參數 （主要調節的參數有：C、kernel、degree、gamma、coef0）\n",
    " \n",
    "- C(懲罰參數)：默認值是1.0，越高 train 時 bias 變低但 variance 變高，越低反之\n",
    "- kernel：默認是rbf ，可以是'linear', 'poly', 'rbf', 'sigmoid', 'precomputed' \n",
    "    - 0 linear：u'v\n",
    "    - 1 polynomial：(gamma*u'*v + coef0)^degree\n",
    "    - 2 ridial bias function：exp(-gamma|uv|^2)\n",
    "    - 3 sigmoid：tanh(gamma*u'*v + coef0)\n",
    "- degree：多項式poly 函數的維度，默認是3 ，選擇其他核函數時會被忽略。\n",
    "- gamma  ： rbf,poly,sigmoid kernel的參數。默認是'auto'，則會選擇1/n_features gamma是选择RBF函数作为kernel后，该函数自带的一个参数。隐含地决定了数据映射到新的特征空间后的分布，gamma越大，支持向量越少，gamma值越小，支持向量越多。支持向量的个数影响训练与预测的速度。\n",
    "- coef0  ： 對於'poly'和'sigmoid'有用\n",
    "- class_weight：類別的權重，字典形式傳遞。設置第幾類的參數C 為weight*C(C-SVC 中的C) \n",
    "- random_state：seed"
   ]
  },
  {
   "cell_type": "code",
   "execution_count": 3,
   "metadata": {},
   "outputs": [],
   "source": [
    "def cross_valid_process(stratified_folder, X, Y, model, report, mode=\"report\", up=False):\n",
    "    \n",
    "    def upsampling(X,Y,train_index):\n",
    "        pos = []\n",
    "        for i, t in enumerate(Y[train_index]):\n",
    "            if t == 0: pos.append(i)\n",
    "        X_new = np.append(X[train_index], X[pos], axis=0)\n",
    "        Y_new = np.append(Y[train_index], Y[pos], axis=0)\n",
    "        idxs = [i for i in range(len(Y_new))]\n",
    "        idxs = shuffle(idxs, random_state=3)\n",
    "        return X_new[idxs], Y_new[idxs]\n",
    "    \n",
    "    for train_index, valid_index in stratified_folder.split(X, Y):\n",
    "        if up:\n",
    "            X_train ,Y_train = upsampling(X,Y,train_index)\n",
    "        else:\n",
    "            X_train ,Y_train = X[train_index], Y[train_index]\n",
    "        if mode == \"report\": print(\".\", end=\" \")\n",
    "        m = model\n",
    "        m.fit(X_train, Y_train)\n",
    "        Y_valid_pred = m.predict(X[valid_index])\n",
    "        cm = confusion_matrix(Y[valid_index], Y_valid_pred)\n",
    "        report.cm_append(cm)\n",
    "    if mode == \"report\":\n",
    "        report.avg_cm_report()\n",
    "        return None\n",
    "    if mode == \"obj\":\n",
    "        return report.object_score()"
   ]
  },
  {
   "cell_type": "markdown",
   "metadata": {},
   "source": [
    "## Arguments Combinations"
   ]
  },
  {
   "cell_type": "code",
   "execution_count": 4,
   "metadata": {},
   "outputs": [
    {
     "name": "stdout",
     "output_type": "stream",
     "text": [
      "0.5 linear 0.01 True\n",
      "0.5 linear 0.01 False\n",
      "0.5 linear 0.02 True\n",
      "0.5 linear 0.02 False\n",
      "0.5 linear 0.001 True\n",
      "0.5 linear 0.001 False\n",
      "0.5 poly 0.01 True\n",
      "0.5 poly 0.01 False\n",
      "0.5 poly 0.02 True\n",
      "0.5 poly 0.02 False\n",
      "0.5 poly 0.001 True\n",
      "0.5 poly 0.001 False\n",
      "0.5 rbf 0.01 True\n",
      "0.5 rbf 0.01 False\n",
      "0.5 rbf 0.02 True\n",
      "0.5 rbf 0.02 False\n",
      "0.5 rbf 0.001 True\n",
      "0.5 rbf 0.001 False\n",
      "0.5 sigmoid 0.01 True\n",
      "0.5 sigmoid 0.01 False\n",
      "0.5 sigmoid 0.02 True\n",
      "0.5 sigmoid 0.02 False\n",
      "0.5 sigmoid 0.001 True\n",
      "0.5 sigmoid 0.001 False\n",
      "1.0 linear 0.01 True\n",
      "1.0 linear 0.01 False\n",
      "1.0 linear 0.02 True\n",
      "1.0 linear 0.02 False\n",
      "1.0 linear 0.001 True\n",
      "1.0 linear 0.001 False\n",
      "1.0 poly 0.01 True\n",
      "1.0 poly 0.01 False\n",
      "1.0 poly 0.02 True\n",
      "1.0 poly 0.02 False\n",
      "1.0 poly 0.001 True\n",
      "1.0 poly 0.001 False\n",
      "1.0 rbf 0.01 True\n",
      "1.0 rbf 0.01 False\n",
      "1.0 rbf 0.02 True\n",
      "1.0 rbf 0.02 False\n",
      "1.0 rbf 0.001 True\n",
      "1.0 rbf 0.001 False\n",
      "1.0 sigmoid 0.01 True\n",
      "1.0 sigmoid 0.01 False\n",
      "1.0 sigmoid 0.02 True\n",
      "1.0 sigmoid 0.02 False\n",
      "1.0 sigmoid 0.001 True\n",
      "1.0 sigmoid 0.001 False\n",
      "1.5 linear 0.01 True\n",
      "1.5 linear 0.01 False\n",
      "1.5 linear 0.02 True\n",
      "1.5 linear 0.02 False\n",
      "1.5 linear 0.001 True\n",
      "1.5 linear 0.001 False\n",
      "1.5 poly 0.01 True\n",
      "1.5 poly 0.01 False\n",
      "1.5 poly 0.02 True\n",
      "1.5 poly 0.02 False\n",
      "1.5 poly 0.001 True\n",
      "1.5 poly 0.001 False\n",
      "1.5 rbf 0.01 True\n",
      "1.5 rbf 0.01 False\n",
      "1.5 rbf 0.02 True\n",
      "1.5 rbf 0.02 False\n",
      "1.5 rbf 0.001 True\n",
      "1.5 rbf 0.001 False\n",
      "1.5 sigmoid 0.01 True\n",
      "1.5 sigmoid 0.01 False\n",
      "1.5 sigmoid 0.02 True\n",
      "1.5 sigmoid 0.02 False\n",
      "1.5 sigmoid 0.001 True\n",
      "1.5 sigmoid 0.001 False\n"
     ]
    }
   ],
   "source": [
    "max_obj_score = 0\n",
    "candidates = []\n",
    "\n",
    "C = [0.5,1.0,1.5]\n",
    "kernel = ['linear', 'poly', 'rbf', 'sigmoid']\n",
    "gamma = [0.01, 0.02, 0.001]\n",
    "\n",
    "for c in C:\n",
    "    for k in kernel:\n",
    "        for g in gamma:\n",
    "            for up in [True, False]:\n",
    "                print(c,k,g,up)\n",
    "                report = BinaryClassificationAverageReport(TARGET_NAMES)\n",
    "                svc = svm.SVC(C=c, kernel=k, random_state=SEED, class_weight=\"balanced\")\n",
    "                obj_score = cross_valid_process(stratified_folder, X, Y, svc, report, mode=\"obj\", up=up)\n",
    "                if obj_score >= max_obj_score:\n",
    "                    candidates.append((c, k, g, up, obj_score))\n",
    "                    max_obj_score = obj_score"
   ]
  },
  {
   "cell_type": "code",
   "execution_count": 5,
   "metadata": {},
   "outputs": [
    {
     "data": {
      "text/plain": [
       "[(0.5, 'linear', 0.01, True, 0.6708387852530966),\n",
       " (0.5, 'linear', 0.01, False, 0.6763903282633272),\n",
       " (0.5, 'linear', 0.02, False, 0.6763903282633272),\n",
       " (0.5, 'linear', 0.001, False, 0.6763903282633272),\n",
       " (0.5, 'poly', 0.01, True, 0.7244543289230052),\n",
       " (0.5, 'poly', 0.02, True, 0.7244543289230052),\n",
       " (0.5, 'poly', 0.001, True, 0.7244543289230052),\n",
       " (1.5, 'rbf', 0.01, True, 0.7327025135768004),\n",
       " (1.5, 'rbf', 0.02, True, 0.7327025135768004),\n",
       " (1.5, 'rbf', 0.001, True, 0.7327025135768004)]"
      ]
     },
     "execution_count": 5,
     "metadata": {},
     "output_type": "execute_result"
    }
   ],
   "source": [
    "candidates"
   ]
  },
  {
   "cell_type": "markdown",
   "metadata": {},
   "source": [
    "## Robustness and Performance Good"
   ]
  },
  {
   "cell_type": "code",
   "execution_count": 6,
   "metadata": {},
   "outputs": [
    {
     "name": "stdout",
     "output_type": "stream",
     "text": [
      ". . . . . . . . . . \n",
      "\n",
      "Below number are the average of 10 fold.\n",
      "\n",
      "bad\n",
      "             precision:    49.87%\n",
      "                recall:    63.33%\n",
      "                    F1:    55.61%\n",
      "good\n",
      "             precision:    82.01%\n",
      "                recall:    72.00%\n",
      "                    F1:    76.56%\n",
      "---------------------------------\n",
      "             weight_F1:    70.28%\n",
      "                   acc:    69.40%\n",
      "\n"
     ]
    }
   ],
   "source": [
    "c = 1.5\n",
    "k = 'rbf'\n",
    "g = 0.001\n",
    "\n",
    "report = BinaryClassificationAverageReport(TARGET_NAMES)\n",
    "\n",
    "svc = svm.SVC(C=c, kernel=k, gamma=g, random_state=SEED, class_weight=\"balanced\")\n",
    "\n",
    "cross_valid_process(stratified_folder, X, Y, svc, report, \"report\", True)"
   ]
  },
  {
   "cell_type": "markdown",
   "metadata": {},
   "source": [
    "## TRAIN & VALIDATION"
   ]
  },
  {
   "cell_type": "code",
   "execution_count": 51,
   "metadata": {},
   "outputs": [
    {
     "name": "stdout",
     "output_type": "stream",
     "text": [
      "[[55  9]\n",
      " [82 54]]\n",
      "              precision    recall  f1-score   support\n",
      "\n",
      "         bad       0.40      0.86      0.55        64\n",
      "        good       0.86      0.40      0.54       136\n",
      "\n",
      "    accuracy                           0.55       200\n",
      "   macro avg       0.63      0.63      0.54       200\n",
      "weighted avg       0.71      0.55      0.54       200\n",
      "\n"
     ]
    }
   ],
   "source": [
    "svc = svm.SVC(C=1.0, kernel='linear', degree=5, random_state=SEED, class_weight={0:7.,1:1.})\n",
    "svc = svc.fit(X_train, Y_train)\n",
    "Y_pred = svc.predict(X_valid)\n",
    "print(confusion_matrix(Y_valid, Y_pred))\n",
    "print(classification_report(Y_valid, Y_pred, target_names=[\"bad\", \"good\"]))"
   ]
  },
  {
   "cell_type": "code",
   "execution_count": 52,
   "metadata": {},
   "outputs": [
    {
     "name": "stdout",
     "output_type": "stream",
     "text": [
      "[[55  4]\n",
      " [86 55]]\n",
      "              precision    recall  f1-score   support\n",
      "\n",
      "         bad       0.39      0.93      0.55        59\n",
      "        good       0.93      0.39      0.55       141\n",
      "\n",
      "    accuracy                           0.55       200\n",
      "   macro avg       0.66      0.66      0.55       200\n",
      "weighted avg       0.77      0.55      0.55       200\n",
      "\n"
     ]
    }
   ],
   "source": [
    "Y_test_pred = svc.predict(X_test)\n",
    "\n",
    "print(confusion_matrix(Y_test, Y_test_pred))\n",
    "print(classification_report(Y_test, Y_test_pred, target_names=[\"bad\", \"good\"]))"
   ]
  },
  {
   "cell_type": "code",
   "execution_count": 53,
   "metadata": {},
   "outputs": [
    {
     "name": "stdout",
     "output_type": "stream",
     "text": [
      "model score: 0.778\n"
     ]
    }
   ],
   "source": [
    "def model_score(bad_recall, w_F1):\n",
    "    score = 0.6* bad_recall + 0.4 * w_F1\n",
    "    print(\"model score:\",score)\n",
    "    \n",
    "model_score(0.93, 0.55)"
   ]
  },
  {
   "cell_type": "markdown",
   "metadata": {},
   "source": [
    "## SVM Report\n",
    "\n",
    "### baseline\n",
    "\n",
    "- c=1.0, kernel='linear', degree=4\n",
    "\n",
    "```\n",
    "\n",
    "[validation]\n",
    "\n",
    "[[ 14  45]\n",
    " [ 22 119]]\n",
    "              precision    recall  f1-score   support\n",
    "\n",
    "         bad       0.39      0.24      0.29        59\n",
    "        good       0.73      0.84      0.78       141\n",
    "\n",
    "    accuracy                           0.67       200\n",
    "   macro avg       0.56      0.54      0.54       200\n",
    "weighted avg       0.63      0.67      0.64       200\n",
    "\n",
    "[test]\n",
    "\n",
    "[[ 17  42]\n",
    " [ 15 126]]\n",
    "              precision    recall  f1-score   support\n",
    "\n",
    "         bad       0.53      0.29      0.37        59\n",
    "        good       0.75      0.89      0.82       141\n",
    "\n",
    "    accuracy                           0.71       200\n",
    "   macro avg       0.64      0.59      0.59       200\n",
    "weighted avg       0.69      0.71      0.69       200\n",
    "\n",
    "model score: 0.43\n",
    "\n",
    "\n",
    "```\n",
    "\n",
    "### class_weight\n",
    "\n",
    "- c=1.0, kernel='linear' degree=5, class_weight={0:7.,1:1.}\n",
    "\n",
    "```\n",
    "[validation]\n",
    "\n",
    "[[55  9]\n",
    " [82 54]]\n",
    "              precision    recall  f1-score   support\n",
    "\n",
    "         bad       0.40      0.86      0.55        64\n",
    "        good       0.86      0.40      0.54       136\n",
    "\n",
    "    accuracy                           0.55       200\n",
    "   macro avg       0.63      0.63      0.54       200\n",
    "weighted avg       0.71      0.55      0.54       200\n",
    "\n",
    "\n",
    "\n",
    "\n",
    "[test]\n",
    "\n",
    "[[55  4]\n",
    " [86 55]]\n",
    "              precision    recall  f1-score   support\n",
    "\n",
    "         bad       0.39      0.93      0.55        59\n",
    "        good       0.93      0.39      0.55       141\n",
    "\n",
    "    accuracy                           0.55       200\n",
    "   macro avg       0.66      0.66      0.55       200\n",
    "weighted avg       0.77      0.55      0.55       200\n",
    "\n",
    "model score: 0.778\n",
    "\n",
    "```\n",
    "\n",
    "### upsampling\n",
    "\n",
    "```\n",
    "[validation]\n",
    "\n",
    "[[27 32]\n",
    " [42 99]]\n",
    "              precision    recall  f1-score   support\n",
    "\n",
    "         bad       0.39      0.46      0.42        59\n",
    "        good       0.76      0.70      0.73       141\n",
    "\n",
    "    accuracy                           0.63       200\n",
    "   macro avg       0.57      0.58      0.57       200\n",
    "weighted avg       0.65      0.63      0.64       200\n",
    "\n",
    "[test]\n",
    "\n",
    "[[ 32  27]\n",
    " [ 29 112]]\n",
    "              precision    recall  f1-score   support\n",
    "\n",
    "         bad       0.52      0.54      0.53        59\n",
    "        good       0.81      0.79      0.80       141\n",
    "\n",
    "    accuracy                           0.72       200\n",
    "   macro avg       0.67      0.67      0.67       200\n",
    "weighted avg       0.72      0.72      0.72       200\n",
    "\n",
    "\n",
    "model score: 0.612\n",
    "```\n",
    "\n",
    "## class_weight -> model score: 0.778"
   ]
  },
  {
   "cell_type": "code",
   "execution_count": null,
   "metadata": {},
   "outputs": [],
   "source": []
  }
 ],
 "metadata": {
  "kernelspec": {
   "display_name": "Python 3",
   "language": "python",
   "name": "python3"
  },
  "language_info": {
   "codemirror_mode": {
    "name": "ipython",
    "version": 3
   },
   "file_extension": ".py",
   "mimetype": "text/x-python",
   "name": "python",
   "nbconvert_exporter": "python",
   "pygments_lexer": "ipython3",
   "version": "3.7.6"
  }
 },
 "nbformat": 4,
 "nbformat_minor": 4
}
